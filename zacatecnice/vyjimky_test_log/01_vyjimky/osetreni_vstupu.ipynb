{
 "cells": [
  {
   "cell_type": "markdown",
   "metadata": {
    "pycharm": {
     "name": "#%% md\n"
    }
   },
   "source": [
    "# Úkol: Uživatel zadá číslo a my vypíšeme, kolik je 10 / číslo.\n",
    "\n",
    "## Bez výjimek:"
   ]
  },
  {
   "cell_type": "markdown",
   "metadata": {
    "pycharm": {
     "name": "#%% md\n"
    }
   },
   "source": [
    "### Jak by se to dělat nemělo."
   ]
  },
  {
   "cell_type": "code",
   "execution_count": 9,
   "metadata": {
    "pycharm": {
     "name": "#%%\n"
    }
   },
   "outputs": [
    {
     "name": "stdout",
     "output_type": "stream",
     "text": [
      "10 / 1231.0 = 0.008123476848090982\n"
     ]
    }
   ],
   "source": [
    "def zadej_cislo_nejhur():\n",
    "    \"\"\"Tato funkce se ptá uživatele na číselný vstup.\n",
    "\n",
    "    Nijak ale neošetřuje výjimky.\n",
    "    Pokud uživatel zadá špatné číslo, program spadne.\n",
    "    \"\"\"\n",
    "    return float(input('Zadej cislo větší než 0 prosim: '))\n",
    "\n",
    "# A doufali, že uživatel zadá číslo...\n",
    "cislo = zadej_cislo_nejhur()\n",
    "print(f'10 / {cislo} = {10 / cislo}')"
   ]
  },
  {
   "cell_type": "markdown",
   "metadata": {
    "pycharm": {
     "name": "#%% md\n"
    }
   },
   "source": [
    "### Ošetřivání pomocí ifů.\n",
    "Ale nefunguje s floaty...\n",
    "Co když zkusíme zadat desetinne místo?"
   ]
  },
  {
   "cell_type": "code",
   "execution_count": 10,
   "metadata": {
    "pycharm": {
     "name": "#%%\n"
    }
   },
   "outputs": [
    {
     "name": "stdout",
     "output_type": "stream",
     "text": [
      "10 / 1213.0 = 0.008244023083264633\n"
     ]
    }
   ],
   "source": [
    "def zadej_cislo_postaru():\n",
    "    \"\"\"Tato funkce se ptá uživatele na číselný vstup.\n",
    "\n",
    "    Pokusí se zkontrolovat, zda vstup obsahuje jen čísla.\n",
    "    Nefunguje s desetinnými čísly.\n",
    "    \"\"\"\n",
    "    while True:\n",
    "        # vezmeme si hodnotu tak, jak je, jako string\n",
    "        hodnota_od_uzivatele = input('Zadej prosím číslo: ')\n",
    "\n",
    "        # zkusíme, jestli je ve tvaru čísla\n",
    "        if hodnota_od_uzivatele.isnumeric():\n",
    "            cislo = float(hodnota_od_uzivatele)\n",
    "\n",
    "            # zkontrolovat jestli je > 0\n",
    "            if cislo > 0:\n",
    "                return cislo\n",
    "            else:\n",
    "                print('Musíš zadat číslo které není 0!')\n",
    "                continue\n",
    "        else:\n",
    "            print('Nezadal jsi číslo.')\n",
    "\n",
    "cislo = zadej_cislo_postaru()\n",
    "print(f'10 / {cislo} = {10 / cislo}')"
   ]
  },
  {
   "cell_type": "markdown",
   "metadata": {
    "pycharm": {
     "name": "#%% md\n"
    }
   },
   "source": [
    "# Nastupují výjimky"
   ]
  },
  {
   "cell_type": "code",
   "execution_count": 11,
   "metadata": {
    "pycharm": {
     "name": "#%%\n"
    }
   },
   "outputs": [
    {
     "name": "stdout",
     "output_type": "stream",
     "text": [
      "V tomto bloku očekávám, že může nasta výjimka.\n",
      "Tohle se provede, pokud chyba nenastane\n",
      "Tohle se provede vždycky; i pokud v `try` bloku byl např. `return`\n",
      "-------------- konec ukázky vyjimek --------------\n"
     ]
    }
   ],
   "source": [
    "# Pro úplnost a spokojenost IDE musíme na chvíli vypnout kontrolu pořadí výjimek\n",
    "# noinspection PyExceptClausesOrder\n",
    "\n",
    "try:\n",
    "\n",
    "    print('V tomto bloku očekávám, že může nasta výjimka.')\n",
    "\n",
    "except ValueError:\n",
    "    print('Tohle se provede, pokud nastane ValueError')\n",
    "except NameError:\n",
    "    print('Tohle se provede, pokud nastane NameError')\n",
    "except Exception:\n",
    "    print('Tohle se provede, pokud nastane jiná chyba')\n",
    "    # (kromě SystemExit a KeyboardInterrupt, ty chytat nechceme)\n",
    "except TypeError:\n",
    "    print('Tohle se neprovede nikdy')\n",
    "    # (\"except Exception\" výše ošetřuje i TypeError; sem se Python nedostane)\n",
    "else:\n",
    "    print('Tohle se provede, pokud chyba nenastane')\n",
    "finally:\n",
    "    print('Tohle se provede vždycky; i pokud v `try` bloku byl např. `return`')\n",
    "\n",
    "print(' konec ukázky vyjimek '.center(50, '-'))"
   ]
  },
  {
   "cell_type": "markdown",
   "metadata": {
    "pycharm": {
     "name": "#%% md\n"
    }
   },
   "source": [
    "### Příklad pomocí výjimek"
   ]
  },
  {
   "cell_type": "code",
   "execution_count": 12,
   "metadata": {
    "pycharm": {
     "name": "#%%\n"
    }
   },
   "outputs": [],
   "source": [
    "def zadej_cislo_lepe():\n",
    "    \"\"\"Tato funkce se ptá uživatele na číselný vstup.\n",
    "\n",
    "    Ošetřuje vstup pomocí try-except.\n",
    "    \"\"\"\n",
    "    while True:\n",
    "        # rovnou zkusím udelat to, co potřebuji\n",
    "        try:\n",
    "            # ale co když se staně něco nečekaného?\n",
    "            return float(input('Zadej cislo: '))\n",
    "        except ValueError:\n",
    "            # Uživatel nezadal číslo\n",
    "            print('Nezadal jsi číslo')"
   ]
  },
  {
   "cell_type": "markdown",
   "metadata": {
    "pycharm": {
     "name": "#%% md\n"
    }
   },
   "source": [
    "Zavolání předchozí funkce a ošetření dělení nulou až poté."
   ]
  },
  {
   "cell_type": "code",
   "execution_count": 13,
   "metadata": {
    "pycharm": {
     "name": "#%%\n"
    }
   },
   "outputs": [
    {
     "name": "stdout",
     "output_type": "stream",
     "text": [
      "10 / 11.0 = 0.9090909090909091\n"
     ]
    }
   ],
   "source": [
    "while True:\n",
    "    try:\n",
    "        cislo = zadej_cislo_lepe()\n",
    "        print(f'10 / {cislo} = {10 / cislo}')\n",
    "        break\n",
    "    except ZeroDivisionError:\n",
    "        print('Musíš zadat číslo které není 0!')"
   ]
  },
  {
   "cell_type": "markdown",
   "metadata": {
    "pycharm": {
     "name": "#%% md\n"
    }
   },
   "source": [
    "# Ošetření několika vyjimek najednou"
   ]
  },
  {
   "cell_type": "code",
   "execution_count": 14,
   "metadata": {
    "pycharm": {
     "name": "#%%\n"
    }
   },
   "outputs": [],
   "source": [
    "def spocti_vysledek():\n",
    "    \"\"\"Tato funkce spočítá 10 / vstup uživatele.\n",
    "\n",
    "    Ošetřuje vstup pomocí try-except-else-finally.\n",
    "    \"\"\"\n",
    "\n",
    "    # pokoušíme se udělat operaci\n",
    "    try:\n",
    "        # vezmeme si syrový vstup ve formě textu\n",
    "        vstup_od_uzivatele = input('Zadej cislo: ')\n",
    "        cislo = float(vstup_od_uzivatele)\n",
    "        vysledek = 10 / cislo\n",
    "\n",
    "    # něco se nepovedlo\n",
    "    except ValueError:\n",
    "        # Uživatel nezadal číslo\n",
    "        print('Nezadal jsi číslo')\n",
    "\n",
    "    except ZeroDivisionError:\n",
    "        # uživatel zadal nulu\n",
    "        print('Musíš zadat číslo které není 0!')\n",
    "\n",
    "    else:\n",
    "        print('Vše v pořádku')\n",
    "        print(f'Výsledek je {vysledek}')\n",
    "\n",
    "    finally:\n",
    "        print('Děkuji že jste použili naše dělení.')"
   ]
  },
  {
   "cell_type": "code",
   "execution_count": 15,
   "metadata": {
    "pycharm": {
     "name": "#%%\n"
    }
   },
   "outputs": [
    {
     "name": "stdout",
     "output_type": "stream",
     "text": [
      "Vše v pořádku\n",
      "Výsledek je 0.09009009009009009\n",
      "Děkuji že jste použili naše dělení.\n"
     ]
    }
   ],
   "source": [
    "spocti_vysledek()"
   ]
  },
  {
   "cell_type": "markdown",
   "metadata": {
    "pycharm": {
     "name": "#%% md\n"
    }
   },
   "source": [
    "## Vyvolání své vlastní výjimky."
   ]
  },
  {
   "cell_type": "code",
   "execution_count": 16,
   "metadata": {
    "pycharm": {
     "name": "#%%\n"
    }
   },
   "outputs": [],
   "source": [
    "def je_liche(cislo):\n",
    "    return cislo % 2 == 1"
   ]
  },
  {
   "cell_type": "code",
   "execution_count": 17,
   "metadata": {
    "pycharm": {
     "name": "#%%\n"
    }
   },
   "outputs": [],
   "source": [
    "def delim_jen_suda_cisla():\n",
    "    \"\"\"Funkce, která dělí jen sudá čísla.\"\"\"\n",
    "\n",
    "    try:\n",
    "        prvni_cislo = int(input(\"Zadej první číslo: \"))\n",
    "        druhe_cislo = int(input(\"Zadej druhé číslo: \"))\n",
    "\n",
    "        if je_liche(prvni_cislo) or je_liche(druhe_cislo):\n",
    "            raise ArithmeticError\n",
    "\n",
    "        vysledek = prvni_cislo / druhe_cislo\n",
    "\n",
    "    except ZeroDivisionError:  # NOTE: pořadí výjimek je důležité, neprohodit\n",
    "        print('Nedělím nulou.')\n",
    "    except ArithmeticError:  # NOTE: pořadí výjimek je důležité, neprohodit\n",
    "        print('Dělím jen sudá čísla.')\n",
    "\n",
    "    except ValueError:\n",
    "        print('Dělím jen čísla.')\n",
    "    else:\n",
    "        print(f'Výsledek je: {vysledek}')\n",
    "    finally:\n",
    "        print('Děkuji za použití.')"
   ]
  },
  {
   "cell_type": "code",
   "execution_count": 18,
   "metadata": {
    "pycharm": {
     "name": "#%%\n"
    }
   },
   "outputs": [
    {
     "name": "stdout",
     "output_type": "stream",
     "text": [
      "Výsledek je: 1.0\n",
      "Děkuji za použití.\n"
     ]
    }
   ],
   "source": [
    "delim_jen_suda_cisla()"
   ]
  },
  {
   "cell_type": "markdown",
   "metadata": {
    "pycharm": {
     "name": "#%% md\n"
    }
   },
   "source": [
    "### Úkol:\n",
    "\n",
    "> Napiš funkci, která načte text ze souboru a ten vypíše.\n",
    "  V případě, že soubor neexituje, vypíše \"Soubor neexistuje.\"\n",
    "  Použij blok try-except\n",
    "  (podívej se do taháku, kterou vyjimku bude nejlepší zachytit)"
   ]
  },
  {
   "cell_type": "markdown",
   "metadata": {
    "pycharm": {
     "name": "#%% md\n"
    }
   },
   "source": [
    "### Řešení"
   ]
  },
  {
   "cell_type": "code",
   "execution_count": 19,
   "metadata": {
    "pycharm": {
     "name": "#%%\n"
    }
   },
   "outputs": [],
   "source": [
    "def precti_soubor(nazev):\n",
    "    try:\n",
    "        with open(nazev, 'r') as f:\n",
    "            print(f.read())\n",
    "    except FileNotFoundError:\n",
    "        print('Soubor neexistuje.')"
   ]
  },
  {
   "cell_type": "code",
   "execution_count": 20,
   "metadata": {
    "pycharm": {
     "name": "#%%\n"
    }
   },
   "outputs": [
    {
     "name": "stdout",
     "output_type": "stream",
     "text": [
      "Soubor neexistuje.\n"
     ]
    }
   ],
   "source": [
    "precti_soubor('neexistujici.txt')"
   ]
  },
  {
   "cell_type": "markdown",
   "metadata": {
    "pycharm": {
     "name": "#%% md\n"
    }
   },
   "source": [
    "### Bonusový Úkol:\n",
    "> Projdi svůj kód a najdi pasáž, která by se dala pomocí try-except vylepšit.\n",
    "  Prober s koučem."
   ]
  },
  {
   "cell_type": "markdown",
   "metadata": {
    "pycharm": {
     "name": "#%% md\n"
    }
   },
   "source": []
  }
 ],
 "metadata": {
  "kernelspec": {
   "display_name": "Python 3 (ipykernel)",
   "language": "python",
   "name": "python3"
  },
  "language_info": {
   "codemirror_mode": {
    "name": "ipython",
    "version": 3
   },
   "file_extension": ".py",
   "mimetype": "text/x-python",
   "name": "python",
   "nbconvert_exporter": "python",
   "pygments_lexer": "ipython3",
   "version": "3.9.10"
  }
 },
 "nbformat": 4,
 "nbformat_minor": 1
}